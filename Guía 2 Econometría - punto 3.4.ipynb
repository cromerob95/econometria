{
 "cells": [
  {
   "cell_type": "markdown",
   "metadata": {},
   "source": [
    "# Solución Ejercicio 3.4 de la Guía 2 de Econometría \n",
    "# Universidad Ean"
   ]
  },
  {
   "cell_type": "markdown",
   "metadata": {},
   "source": [
    "04 de Septiembre del 2022"
   ]
  },
  {
   "cell_type": "markdown",
   "metadata": {},
   "source": [
    "Ejercicio realizado por: \n",
    "\n",
    "Cristian Stiven Romero Bustos \n",
    "\n",
    "Ruben Andres Solano Corredor\n",
    "\n",
    "Ana María Espitia Lopez"
   ]
  },
  {
   "cell_type": "markdown",
   "metadata": {},
   "source": [
    "# 3.4. Use la base de datos Birthweight_Smoking para responder las siguientes preguntas:"
   ]
  },
  {
   "cell_type": "markdown",
   "metadata": {},
   "source": [
    "# Desarrollo punto 3.4"
   ]
  },
  {
   "cell_type": "code",
   "execution_count": 3,
   "metadata": {},
   "outputs": [],
   "source": [
    "#Importamos las librerias iniciales\n",
    "import pandas as pd\n",
    "import numpy as np\n",
    "import seaborn as sns\n",
    "import matplotlib.pyplot as plt"
   ]
  },
  {
   "cell_type": "code",
   "execution_count": 4,
   "metadata": {},
   "outputs": [
    {
     "name": "stdout",
     "output_type": "stream",
     "text": [
      "# de Registros, # de Columnas (3000, 12)\n"
     ]
    },
    {
     "data": {
      "text/html": [
       "<div>\n",
       "<style scoped>\n",
       "    .dataframe tbody tr th:only-of-type {\n",
       "        vertical-align: middle;\n",
       "    }\n",
       "\n",
       "    .dataframe tbody tr th {\n",
       "        vertical-align: top;\n",
       "    }\n",
       "\n",
       "    .dataframe thead th {\n",
       "        text-align: right;\n",
       "    }\n",
       "</style>\n",
       "<table border=\"1\" class=\"dataframe\">\n",
       "  <thead>\n",
       "    <tr style=\"text-align: right;\">\n",
       "      <th></th>\n",
       "      <th>nprevist</th>\n",
       "      <th>alcohol</th>\n",
       "      <th>tripre1</th>\n",
       "      <th>tripre2</th>\n",
       "      <th>tripre3</th>\n",
       "      <th>tripre0</th>\n",
       "      <th>birthweight</th>\n",
       "      <th>smoker</th>\n",
       "      <th>unmarried</th>\n",
       "      <th>educ</th>\n",
       "      <th>age</th>\n",
       "      <th>drinks</th>\n",
       "    </tr>\n",
       "  </thead>\n",
       "  <tbody>\n",
       "    <tr>\n",
       "      <th>0</th>\n",
       "      <td>12</td>\n",
       "      <td>0</td>\n",
       "      <td>1</td>\n",
       "      <td>0</td>\n",
       "      <td>0</td>\n",
       "      <td>0</td>\n",
       "      <td>4253.0</td>\n",
       "      <td>1.0</td>\n",
       "      <td>1.0</td>\n",
       "      <td>12.0</td>\n",
       "      <td>27.0</td>\n",
       "      <td>0.0</td>\n",
       "    </tr>\n",
       "    <tr>\n",
       "      <th>1</th>\n",
       "      <td>5</td>\n",
       "      <td>0</td>\n",
       "      <td>0</td>\n",
       "      <td>1</td>\n",
       "      <td>0</td>\n",
       "      <td>0</td>\n",
       "      <td>3459.0</td>\n",
       "      <td>0.0</td>\n",
       "      <td>0.0</td>\n",
       "      <td>16.0</td>\n",
       "      <td>24.0</td>\n",
       "      <td>0.0</td>\n",
       "    </tr>\n",
       "    <tr>\n",
       "      <th>2</th>\n",
       "      <td>12</td>\n",
       "      <td>0</td>\n",
       "      <td>1</td>\n",
       "      <td>0</td>\n",
       "      <td>0</td>\n",
       "      <td>0</td>\n",
       "      <td>2920.0</td>\n",
       "      <td>1.0</td>\n",
       "      <td>0.0</td>\n",
       "      <td>11.0</td>\n",
       "      <td>23.0</td>\n",
       "      <td>0.0</td>\n",
       "    </tr>\n",
       "    <tr>\n",
       "      <th>3</th>\n",
       "      <td>13</td>\n",
       "      <td>0</td>\n",
       "      <td>1</td>\n",
       "      <td>0</td>\n",
       "      <td>0</td>\n",
       "      <td>0</td>\n",
       "      <td>2600.0</td>\n",
       "      <td>0.0</td>\n",
       "      <td>0.0</td>\n",
       "      <td>17.0</td>\n",
       "      <td>28.0</td>\n",
       "      <td>0.0</td>\n",
       "    </tr>\n",
       "    <tr>\n",
       "      <th>4</th>\n",
       "      <td>9</td>\n",
       "      <td>0</td>\n",
       "      <td>1</td>\n",
       "      <td>0</td>\n",
       "      <td>0</td>\n",
       "      <td>0</td>\n",
       "      <td>3742.0</td>\n",
       "      <td>0.0</td>\n",
       "      <td>0.0</td>\n",
       "      <td>13.0</td>\n",
       "      <td>27.0</td>\n",
       "      <td>0.0</td>\n",
       "    </tr>\n",
       "  </tbody>\n",
       "</table>\n",
       "</div>"
      ],
      "text/plain": [
       "   nprevist  alcohol  tripre1  tripre2  tripre3  tripre0  birthweight  smoker  \\\n",
       "0        12        0        1        0        0        0       4253.0     1.0   \n",
       "1         5        0        0        1        0        0       3459.0     0.0   \n",
       "2        12        0        1        0        0        0       2920.0     1.0   \n",
       "3        13        0        1        0        0        0       2600.0     0.0   \n",
       "4         9        0        1        0        0        0       3742.0     0.0   \n",
       "\n",
       "   unmarried  educ   age  drinks  \n",
       "0        1.0  12.0  27.0     0.0  \n",
       "1        0.0  16.0  24.0     0.0  \n",
       "2        0.0  11.0  23.0     0.0  \n",
       "3        0.0  17.0  28.0     0.0  \n",
       "4        0.0  13.0  27.0     0.0  "
      ]
     },
     "execution_count": 4,
     "metadata": {},
     "output_type": "execute_result"
    }
   ],
   "source": [
    "#Leemos los datos de Stata y armamos nuestro Dataframe y lo llamamos df\n",
    "df = pd.read_stata('birthweight_smoking.dta')\n",
    "#Visualisamos las variables y su información general\n",
    "print(\"# de Registros, # de Columnas\", df.shape)\n",
    "df.head()"
   ]
  },
  {
   "cell_type": "markdown",
   "metadata": {},
   "source": [
    "# i.Regrese Birthweight sobre Smoker."
   ]
  },
  {
   "cell_type": "markdown",
   "metadata": {},
   "source": [
    "# Respuesta:"
   ]
  },
  {
   "cell_type": "code",
   "execution_count": 5,
   "metadata": {},
   "outputs": [
    {
     "name": "stdout",
     "output_type": "stream",
     "text": [
      "Pendiente Estimada (m) [-0.00011296]\n",
      "Intercepto Estimado (b) 0.5761246\n",
      "unmarried     -0.203235\n",
      "smoker        -0.169127\n",
      "tripre0       -0.123500\n",
      "tripre2       -0.066714\n",
      "tripre3       -0.046495\n",
      "alcohol       -0.033647\n",
      "drinks        -0.032409\n",
      "age            0.080073\n",
      "educ           0.105207\n",
      "tripre1        0.112377\n",
      "nprevist       0.227360\n",
      "birthweight    1.000000\n",
      "Name: birthweight, dtype: float64\n"
     ]
    },
    {
     "data": {
      "image/png": "[encoded data removed]",
      "text/plain": [
       "<Figure size 432x288 with 1 Axes>"
      ]
     },
     "metadata": {
      "needs_background": "light"
     },
     "output_type": "display_data"
    }
   ],
   "source": [
    "from sklearn import linear_model\n",
    "regresion = linear_model.LinearRegression()\n",
    "birthweight = df['birthweight'].values.reshape((-1, 1))\n",
    "modelo = regresion.fit(birthweight, df['smoker'])\n",
    "print(\"Pendiente Estimada (m)\", modelo.coef_)\n",
    "print(\"Intercepto Estimado (b)\", modelo.intercept_)\n",
    "\n",
    "#Regresión y linea de tendencia\n",
    "sns.regplot(x='birthweight',y='smoker',data=df)\n",
    "\n",
    "#Correlación\n",
    "print(df.corr()['birthweight'].sort_values())"
   ]
  },
  {
   "cell_type": "markdown",
   "metadata": {},
   "source": [
    "# a. ¿Cuál es el efecto estimado de smoking sobre birth weight?"
   ]
  },
  {
   "cell_type": "markdown",
   "metadata": {},
   "source": [
    "# Respuesta:"
   ]
  },
  {
   "cell_type": "code",
   "execution_count": 6,
   "metadata": {},
   "outputs": [
    {
     "name": "stdout",
     "output_type": "stream",
     "text": [
      "Pendiente Estimada (m) [-253.22856]\n",
      "Intercepto Estimado (b) 3432.06\n",
      "Correlaciones de Smoker: educ          -0.232645\n",
      "birthweight   -0.169127\n",
      "age           -0.143765\n",
      "tripre1       -0.131505\n",
      "nprevist      -0.108635\n",
      "tripre0        0.060830\n",
      "tripre3        0.079249\n",
      "tripre2        0.088875\n",
      "drinks         0.091995\n",
      "alcohol        0.120898\n",
      "unmarried      0.237744\n",
      "smoker         1.000000\n",
      "Name: smoker, dtype: float64\n"
     ]
    },
    {
     "data": {
      "image/png": "[encoded data removed]",
      "text/plain": [
       "<Figure size 432x288 with 1 Axes>"
      ]
     },
     "metadata": {
      "needs_background": "light"
     },
     "output_type": "display_data"
    }
   ],
   "source": [
    "#Aquí la logica es x= Smoker y= birthweight\n",
    "\n",
    "from sklearn import linear_model\n",
    "regresion = linear_model.LinearRegression()\n",
    "smoker = df['smoker'].values.reshape((-1, 1))\n",
    "modelo = regresion.fit(smoker, df['birthweight'])\n",
    "print(\"Pendiente Estimada (m)\", modelo.coef_)\n",
    "print(\"Intercepto Estimado (b)\", modelo.intercept_)\n",
    "\n",
    "#Regresión y linea de tendencia\n",
    "sns.regplot(x='smoker',y='birthweight',data=df)\n",
    "\n",
    "#Correlación\n",
    "print('Correlaciones de Smoker:', df.corr()['smoker'].sort_values())"
   ]
  },
  {
   "cell_type": "markdown",
   "metadata": {},
   "source": [
    "Es Importante recalcar que hay una relación inversamente proporcional que se fundamenta con la tendencia de la linea y su pendiente de [-253.22856] adicional, la correlación es de -16,91% "
   ]
  },
  {
   "cell_type": "markdown",
   "metadata": {},
   "source": [
    "# ii.Regrese Birthweight sobre Smoker, Alcohol, y Nprevist"
   ]
  },
  {
   "cell_type": "code",
   "execution_count": 7,
   "metadata": {
    "scrolled": true
   },
   "outputs": [],
   "source": [
    "df1 = df"
   ]
  },
  {
   "cell_type": "code",
   "execution_count": 8,
   "metadata": {},
   "outputs": [],
   "source": [
    "# Preparación de datos iniciales\n",
    "X = df1.drop(['birthweight', 'tripre1', 'tripre2', 'tripre0', 'tripre3', 'unmarried', 'educ', 'age', 'drinks'], axis=1)\n",
    "y = df1['birthweight']"
   ]
  },
  {
   "cell_type": "code",
   "execution_count": 9,
   "metadata": {},
   "outputs": [
    {
     "data": {
      "text/html": [
       "<div>\n",
       "<style scoped>\n",
       "    .dataframe tbody tr th:only-of-type {\n",
       "        vertical-align: middle;\n",
       "    }\n",
       "\n",
       "    .dataframe tbody tr th {\n",
       "        vertical-align: top;\n",
       "    }\n",
       "\n",
       "    .dataframe thead th {\n",
       "        text-align: right;\n",
       "    }\n",
       "</style>\n",
       "<table border=\"1\" class=\"dataframe\">\n",
       "  <thead>\n",
       "    <tr style=\"text-align: right;\">\n",
       "      <th></th>\n",
       "      <th>nprevist</th>\n",
       "      <th>alcohol</th>\n",
       "      <th>smoker</th>\n",
       "    </tr>\n",
       "  </thead>\n",
       "  <tbody>\n",
       "    <tr>\n",
       "      <th>0</th>\n",
       "      <td>12</td>\n",
       "      <td>0</td>\n",
       "      <td>1.0</td>\n",
       "    </tr>\n",
       "    <tr>\n",
       "      <th>1</th>\n",
       "      <td>5</td>\n",
       "      <td>0</td>\n",
       "      <td>0.0</td>\n",
       "    </tr>\n",
       "    <tr>\n",
       "      <th>2</th>\n",
       "      <td>12</td>\n",
       "      <td>0</td>\n",
       "      <td>1.0</td>\n",
       "    </tr>\n",
       "    <tr>\n",
       "      <th>3</th>\n",
       "      <td>13</td>\n",
       "      <td>0</td>\n",
       "      <td>0.0</td>\n",
       "    </tr>\n",
       "    <tr>\n",
       "      <th>4</th>\n",
       "      <td>9</td>\n",
       "      <td>0</td>\n",
       "      <td>0.0</td>\n",
       "    </tr>\n",
       "  </tbody>\n",
       "</table>\n",
       "</div>"
      ],
      "text/plain": [
       "   nprevist  alcohol  smoker\n",
       "0        12        0     1.0\n",
       "1         5        0     0.0\n",
       "2        12        0     1.0\n",
       "3        13        0     0.0\n",
       "4         9        0     0.0"
      ]
     },
     "execution_count": 9,
     "metadata": {},
     "output_type": "execute_result"
    }
   ],
   "source": [
    "X.head()"
   ]
  },
  {
   "cell_type": "code",
   "execution_count": 10,
   "metadata": {},
   "outputs": [
    {
     "data": {
      "text/plain": [
       "0    4253.0\n",
       "1    3459.0\n",
       "2    2920.0\n",
       "3    2600.0\n",
       "4    3742.0\n",
       "Name: birthweight, dtype: float32"
      ]
     },
     "execution_count": 10,
     "metadata": {},
     "output_type": "execute_result"
    }
   ],
   "source": [
    "y.head()"
   ]
  },
  {
   "cell_type": "code",
   "execution_count": 11,
   "metadata": {},
   "outputs": [
    {
     "name": "stdout",
     "output_type": "stream",
     "text": [
      "Pendiente Estimada (m) nprevist, alcohol, smoker [  34.069912  -30.491383 -217.58006 ]\n",
      "Intercepto Estimado (b) 3051.2485\n"
     ]
    }
   ],
   "source": [
    "from sklearn import linear_model\n",
    "from sklearn.metrics import mean_squared_error\n",
    "from sklearn.metrics import r2_score\n",
    "iiregresion = linear_model.LinearRegression()\n",
    "X.values.reshape((-1, 1))\n",
    "modelo = iiregresion.fit(X, y)\n",
    "print(\"Pendiente Estimada (m) nprevist, alcohol, smoker\", modelo.coef_)\n",
    "print(\"Intercepto Estimado (b)\", modelo.intercept_)\n",
    "\n"
   ]
  },
  {
   "cell_type": "code",
   "execution_count": 12,
   "metadata": {},
   "outputs": [],
   "source": [
    "y_pred=[8,  0,  1]"
   ]
  },
  {
   "cell_type": "code",
   "execution_count": 13,
   "metadata": {},
   "outputs": [
    {
     "name": "stdout",
     "output_type": "stream",
     "text": [
      "[3106.22776794]\n"
     ]
    }
   ],
   "source": [
    "#Predicción de Jane\n",
    "print(modelo.predict([y_pred]))"
   ]
  },
  {
   "cell_type": "code",
   "execution_count": 14,
   "metadata": {},
   "outputs": [],
   "source": [
    "y_pred_all = modelo.predict(X)"
   ]
  },
  {
   "cell_type": "code",
   "execution_count": 15,
   "metadata": {},
   "outputs": [
    {
     "data": {
      "text/plain": [
       "0.07285029165983248"
      ]
     },
     "execution_count": 15,
     "metadata": {},
     "output_type": "execute_result"
    }
   ],
   "source": [
    "from sklearn.metrics import r2_score\n",
    "r2_score(y, y_pred_all)"
   ]
  },
  {
   "cell_type": "code",
   "execution_count": 17,
   "metadata": {},
   "outputs": [
    {
     "data": {
      "text/plain": [
       "325003.06"
      ]
     },
     "execution_count": 17,
     "metadata": {},
     "output_type": "execute_result"
    }
   ],
   "source": [
    "from sklearn.metrics import mean_squared_error\n",
    "mean_squared_error(y, y_pred_all)"
   ]
  },
  {
   "cell_type": "code",
   "execution_count": null,
   "metadata": {},
   "outputs": [],
   "source": []
  }
 ],
 "metadata": {
  "kernelspec": {
   "display_name": "Python 3",
   "language": "python",
   "name": "python3"
  },
  "language_info": {
   "codemirror_mode": {
    "name": "ipython",
    "version": 3
   },
   "file_extension": ".py",
   "mimetype": "text/x-python",
   "name": "python",
   "nbconvert_exporter": "python",
   "pygments_lexer": "ipython3",
   "version": "3.8.3"
  }
 },
 "nbformat": 4,
 "nbformat_minor": 4
}
